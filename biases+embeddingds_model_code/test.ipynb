{
 "cells": [
  {
   "cell_type": "code",
   "execution_count": 1,
   "metadata": {},
   "outputs": [],
   "source": [
    "from alternating_least_square import AlternatingLeastSquare"
   ]
  },
  {
   "cell_type": "code",
   "execution_count": 2,
   "metadata": {},
   "outputs": [],
   "source": [
    "\n",
    "data_dir = '../data/ml-25m/ratings.csv'\n",
    "als_25m_data = AlternatingLeastSquare(data_dir, embedding_dim=5)\n",
    "als_25m_data.data_indexing()"
   ]
  },
  {
   "cell_type": "code",
   "execution_count": 3,
   "metadata": {},
   "outputs": [],
   "source": [
    "\n",
    "als_25m_data.train_test_split()"
   ]
  },
  {
   "cell_type": "code",
   "execution_count": null,
   "metadata": {},
   "outputs": [
    {
     "name": "stderr",
     "output_type": "stream",
     "text": [
      "Training:   0%|          | 0/10 [00:00<?, ?epoch/s]"
     ]
    }
   ],
   "source": [
    "user_biases, item_biases ,losses, rmse, losses_test, rmses_test= als_25m_data.alternating_least_square(als_25m_data.data_by_user_train, als_25m_data.data_by_movie_train, lambd=0.1, gamma=0.001, epochs =10)"
   ]
  },
  {
   "cell_type": "code",
   "execution_count": 5,
   "metadata": {},
   "outputs": [],
   "source": [
    "als_25m_data.create_dummy_user(2116, 5)\n",
    "\n",
    "movies_dir = '../data/ml-25m/movies.csv'\n",
    "als_25m_data.recommendation_for_new_user(movies_dir, lambd=0.1, gamma=0.001)\n"
   ]
  },
  {
   "cell_type": "code",
   "execution_count": 6,
   "metadata": {},
   "outputs": [
    {
     "name": "stdout",
     "output_type": "stream",
     "text": [
      "You may also like:['The Final Sacrifice (1990)', \"Hitler's Kaput! (2008)\", 'The Eyes of Orson Welles (2018)', 'Revenge of the Green Dragons (2014)', 'Parade, The (Parada) (2011)', 'Gyo: Tokyo Fish Attack (2012)', \"Summer of '04 (Sommer '04) (2006)\", 'Man with the Gun (1955)', 'Pokémon Origins (2013)', 'Om Jai Jagadish (2002)', 'Into the Dark: School Spirit (2019)', 'George Washington Slept Here (1942)', 'Zapruder Film of Kennedy Assassination (1963)', \"Rock 'n' Roll Nightmare (1987)\", 'On a marché sur Bangkok (2014)']\n"
     ]
    }
   ],
   "source": [
    "movies_dir = '../data/ml-25m/movies.csv'\n",
    "als_25m_data.recommendation_for_new_user(movies_dir, lambd=0.1, gamma=0.001)"
   ]
  },
  {
   "cell_type": "code",
   "execution_count": null,
   "metadata": {},
   "outputs": [],
   "source": []
  },
  {
   "cell_type": "code",
   "execution_count": null,
   "metadata": {},
   "outputs": [],
   "source": []
  },
  {
   "cell_type": "code",
   "execution_count": null,
   "metadata": {},
   "outputs": [],
   "source": []
  },
  {
   "cell_type": "code",
   "execution_count": null,
   "metadata": {},
   "outputs": [],
   "source": []
  },
  {
   "cell_type": "code",
   "execution_count": 7,
   "metadata": {},
   "outputs": [],
   "source": [
    "import numpy as np"
   ]
  },
  {
   "cell_type": "code",
   "execution_count": 16,
   "metadata": {},
   "outputs": [],
   "source": [
    "a=np.linspace(5,0, 20)"
   ]
  },
  {
   "cell_type": "code",
   "execution_count": 17,
   "metadata": {},
   "outputs": [
    {
     "data": {
      "text/plain": [
       "array([5.        , 4.73684211, 4.47368421, 4.21052632, 3.94736842,\n",
       "       3.68421053, 3.42105263, 3.15789474, 2.89473684, 2.63157895,\n",
       "       2.36842105, 2.10526316, 1.84210526, 1.57894737, 1.31578947,\n",
       "       1.05263158, 0.78947368, 0.52631579, 0.26315789, 0.        ])"
      ]
     },
     "execution_count": 17,
     "metadata": {},
     "output_type": "execute_result"
    }
   ],
   "source": [
    "a"
   ]
  },
  {
   "cell_type": "code",
   "execution_count": 20,
   "metadata": {},
   "outputs": [
    {
     "data": {
      "text/plain": [
       "array([1, 0])"
      ]
     },
     "execution_count": 20,
     "metadata": {},
     "output_type": "execute_result"
    }
   ],
   "source": [
    "np.argpartition(a, -2)[-2:]"
   ]
  },
  {
   "cell_type": "markdown",
   "metadata": {},
   "source": []
  },
  {
   "cell_type": "code",
   "execution_count": null,
   "metadata": {},
   "outputs": [],
   "source": []
  },
  {
   "cell_type": "code",
   "execution_count": null,
   "metadata": {},
   "outputs": [],
   "source": []
  }
 ],
 "metadata": {
  "kernelspec": {
   "display_name": "venv",
   "language": "python",
   "name": "python3"
  },
  "language_info": {
   "codemirror_mode": {
    "name": "ipython",
    "version": 3
   },
   "file_extension": ".py",
   "mimetype": "text/x-python",
   "name": "python",
   "nbconvert_exporter": "python",
   "pygments_lexer": "ipython3",
   "version": "3.11.2"
  }
 },
 "nbformat": 4,
 "nbformat_minor": 2
}
