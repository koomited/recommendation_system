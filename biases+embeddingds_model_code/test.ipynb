{
 "cells": [
  {
   "cell_type": "code",
   "execution_count": 4,
   "metadata": {},
   "outputs": [
    {
     "name": "stdout",
     "output_type": "stream",
     "text": [
      "\u001b[1;31merror\u001b[0m: \u001b[1mexternally-managed-environment\u001b[0m\n",
      "\n",
      "\u001b[31m×\u001b[0m This environment is externally managed\n",
      "\u001b[31m╰─>\u001b[0m To install Python packages system-wide, try apt install\n",
      "\u001b[31m   \u001b[0m python3-xyz, where xyz is the package you are trying to\n",
      "\u001b[31m   \u001b[0m install.\n",
      "\u001b[31m   \u001b[0m \n",
      "\u001b[31m   \u001b[0m If you wish to install a non-Debian-packaged Python package,\n",
      "\u001b[31m   \u001b[0m create a virtual environment using python3 -m venv path/to/venv.\n",
      "\u001b[31m   \u001b[0m Then use path/to/venv/bin/python and path/to/venv/bin/pip. Make\n",
      "\u001b[31m   \u001b[0m sure you have python3-full installed.\n",
      "\u001b[31m   \u001b[0m \n",
      "\u001b[31m   \u001b[0m If you wish to install a non-Debian packaged Python application,\n",
      "\u001b[31m   \u001b[0m it may be easiest to use pipx install xyz, which will manage a\n",
      "\u001b[31m   \u001b[0m virtual environment for you. Make sure you have pipx installed.\n",
      "\u001b[31m   \u001b[0m \n",
      "\u001b[31m   \u001b[0m See /usr/share/doc/python3.11/README.venv for more information.\n",
      "\n",
      "\u001b[1;35mnote\u001b[0m: If you believe this is a mistake, please contact your Python installation or OS distribution provider. You can override this, at the risk of breaking your Python installation or OS, by passing --break-system-packages.\n",
      "\u001b[1;36mhint\u001b[0m: See PEP 668 for the detailed specification.\n"
     ]
    }
   ],
   "source": [
    "!pip install -U \"jax[tpu]\" -f https://storage.googleapis.com/jax-releases/libtpu_releases.html"
   ]
  },
  {
   "cell_type": "code",
   "execution_count": 5,
   "metadata": {},
   "outputs": [
    {
     "name": "stdout",
     "output_type": "stream",
     "text": [
      "Only CPU accelerator is connected.\n",
      "Num devices: 8\n",
      " Devices: [CpuDevice(id=0), CpuDevice(id=1), CpuDevice(id=2), CpuDevice(id=3), CpuDevice(id=4), CpuDevice(id=5), CpuDevice(id=6), CpuDevice(id=7)]\n"
     ]
    }
   ],
   "source": [
    "\n",
    "\n",
    "## Install and import anything required. Capture hides the output from the cell.\n",
    "# @title Install and import required packages. (Run Cell)\n",
    "\n",
    "import subprocess\n",
    "import os\n",
    "\n",
    "# Based on https://stackoverflow.com/questions/67504079/how-to-check-if-an-nvidia-gpu-is-available-on-my-system\n",
    "try:\n",
    "    subprocess.check_output('nvidia-smi')\n",
    "    print(\"a GPU is connected.\")\n",
    "except Exception: \n",
    "    # TPU or CPU\n",
    "    if \"COLAB_TPU_ADDR\" in os.environ and os.environ[\"COLAB_TPU_ADDR\"]:\n",
    "      print(\"A TPU is connected.\")\n",
    "      import jax.tools.colab_tpu\n",
    "      jax.tools.colab_tpu.setup_tpu()\n",
    "    else:\n",
    "      print(\"Only CPU accelerator is connected.\")\n",
    "      # x8 cpu devices - number of (emulated) host devices\n",
    "      os.environ[\"XLA_FLAGS\"] = \"--xla_force_host_platform_device_count=8\"\n",
    "      \n",
    "import jax\n",
    "import jax.numpy as jnp\n",
    "from jax import grad, jit, vmap, pmap\n",
    "\n",
    "import matplotlib.pyplot as plt\n",
    "import numpy as np\n",
    "     \n",
    "\n",
    "# @title Helper Functions. (Run Cell)\n",
    "import copy\n",
    "from typing import Dict\n",
    "\n",
    "\n",
    "def plot_performance(data: Dict, title: str):\n",
    "    runs = list(data.keys())\n",
    "    time = list(data.values())\n",
    "\n",
    "    # creating the bar plot\n",
    "    plt.bar(runs, time, width=0.35)\n",
    "\n",
    "    plt.xlabel(\"Implementation\")\n",
    "    plt.ylabel(\"Average time taken (in s)\")\n",
    "    plt.title(title)\n",
    "    plt.show()\n",
    "\n",
    "    best_perf_key = min(data, key=data.get)\n",
    "    all_runs_key = copy.copy(runs)\n",
    "\n",
    "    # all_runs_key_except_best\n",
    "    all_runs_key.remove(best_perf_key)\n",
    "\n",
    "    for k in all_runs_key:\n",
    "        print(\n",
    "            f\"{best_perf_key} was {round((data[k]/data[best_perf_key]),2)} times faster than {k} !!!\"\n",
    "        )\n",
    "     \n",
    "\n",
    "# @title Check the device you are using (Run Cell)\n",
    "print(f\"Num devices: {jax.device_count()}\")\n",
    "print(f\" Devices: {jax.devices()}\")\n",
    "     \n"
   ]
  },
  {
   "cell_type": "code",
   "execution_count": 6,
   "metadata": {},
   "outputs": [
    {
     "data": {
      "image/png": "[encoded data removed]",
      "text/plain": [
       "<Figure size 640x480 with 1 Axes>"
      ]
     },
     "metadata": {},
     "output_type": "display_data"
    }
   ],
   "source": [
    "# @title Answer to code task (Try not to peek until you've given it a good try!')\n",
    "# 100 linearly spaced numbers\n",
    "x = jnp.linspace(-jnp.pi, jnp.pi, 100)\n",
    "\n",
    "y = jnp.cos(x)\n",
    "\n",
    "# plot the functions\n",
    "plt.plot(x, y, \"b\", label=\"y=cos(x)\")\n",
    "\n",
    "plt.legend(loc=\"upper left\")\n",
    "\n",
    "# show the plot\n",
    "plt.show()"
   ]
  },
  {
   "cell_type": "code",
   "execution_count": null,
   "metadata": {},
   "outputs": [],
   "source": []
  },
  {
   "cell_type": "code",
   "execution_count": 7,
   "metadata": {},
   "outputs": [
    {
     "name": "stdout",
     "output_type": "stream",
     "text": [
      "175 ms ± 9.8 ms per loop (mean ± std. dev. of 7 runs, 10 loops each)\n"
     ]
    }
   ],
   "source": [
    "size = 1000\n",
    "x = np.random.normal(size=(size, size))\n",
    "y = np.random.normal(size=(size, size))\n",
    "numpy_time = %timeit -o -n 10 a_np = np.dot(y,x.T)"
   ]
  },
  {
   "cell_type": "code",
   "execution_count": 9,
   "metadata": {},
   "outputs": [
    {
     "name": "stdout",
     "output_type": "stream",
     "text": [
      "The slowest run took 4.06 times longer than the fastest. This could mean that an intermediate result is being cached.\n",
      "12.1 ms ± 5.83 ms per loop (mean ± std. dev. of 7 runs, 10 loops each)\n"
     ]
    }
   ],
   "source": [
    "size = 1000\n",
    "key1, key2 = jax.random.split(jax.random.PRNGKey(42), num=2)\n",
    "x = jax.random.normal(key1, shape=(size, size))\n",
    "y = jax.random.normal(key2, shape=(size, size))\n",
    "jax_time = %timeit -o -n 10 jnp.dot(y, x.T).block_until_ready()"
   ]
  },
  {
   "cell_type": "code",
   "execution_count": 11,
   "metadata": {},
   "outputs": [],
   "source": [
    "np_average_time = np.mean(numpy_time.all_runs)\n",
    "jax_average_time = np.mean(jax_time.all_runs)\n",
    "data = {\"numpy\": np_average_time, \"jax\": jax_average_time}"
   ]
  },
  {
   "cell_type": "code",
   "execution_count": 12,
   "metadata": {},
   "outputs": [
    {
     "data": {
      "text/plain": [
       "{'numpy': np.float64(1.747227577421914),\n",
       " 'jax': np.float64(0.12124914713370215)}"
      ]
     },
     "execution_count": 12,
     "metadata": {},
     "output_type": "execute_result"
    }
   ],
   "source": [
    "data"
   ]
  },
  {
   "cell_type": "code",
   "execution_count": null,
   "metadata": {},
   "outputs": [],
   "source": []
  }
 ],
 "metadata": {
  "kernelspec": {
   "display_name": "venv",
   "language": "python",
   "name": "python3"
  },
  "language_info": {
   "codemirror_mode": {
    "name": "ipython",
    "version": 3
   },
   "file_extension": ".py",
   "mimetype": "text/x-python",
   "name": "python",
   "nbconvert_exporter": "python",
   "pygments_lexer": "ipython3",
   "version": "3.11.2"
  }
 },
 "nbformat": 4,
 "nbformat_minor": 2
}
