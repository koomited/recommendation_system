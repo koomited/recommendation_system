{
 "cells": [
  {
   "cell_type": "code",
   "execution_count": 2,
   "metadata": {},
   "outputs": [
    {
     "name": "stdout",
     "output_type": "stream",
     "text": [
      "Only CPU accelerator is connected.\n",
      "Num devices: 8\n",
      " Devices: [CpuDevice(id=0), CpuDevice(id=1), CpuDevice(id=2), CpuDevice(id=3), CpuDevice(id=4), CpuDevice(id=5), CpuDevice(id=6), CpuDevice(id=7)]\n"
     ]
    }
   ],
   "source": [
    "\n",
    "\n",
    "## Install and import anything required. Capture hides the output from the cell.\n",
    "# @title Install and import required packages. (Run Cell)\n",
    "\n",
    "import subprocess\n",
    "import os\n",
    "\n",
    "# Based on https://stackoverflow.com/questions/67504079/how-to-check-if-an-nvidia-gpu-is-available-on-my-system\n",
    "try:\n",
    "    subprocess.check_output('nvidia-smi')\n",
    "    print(\"a GPU is connected.\")\n",
    "except Exception: \n",
    "    # TPU or CPU\n",
    "    if \"COLAB_TPU_ADDR\" in os.environ and os.environ[\"COLAB_TPU_ADDR\"]:\n",
    "      print(\"A TPU is connected.\")\n",
    "      import jax.tools.colab_tpu\n",
    "      jax.tools.colab_tpu.setup_tpu()\n",
    "    else:\n",
    "      print(\"Only CPU accelerator is connected.\")\n",
    "      # x8 cpu devices - number of (emulated) host devices\n",
    "      os.environ[\"XLA_FLAGS\"] = \"--xla_force_host_platform_device_count=8\"\n",
    "import jax\n",
    "import jax.numpy as jnp\n",
    "from jax import grad, jit, vmap, pmap\n",
    "\n",
    "import matplotlib.pyplot as plt\n",
    "import numpy as np\n",
    "     \n",
    "\n",
    "# @title Helper Functions. (Run Cell)\n",
    "import copy\n",
    "from typing import Dict\n",
    "\n",
    "\n",
    "def plot_performance(data: Dict, title: str):\n",
    "    runs = list(data.keys())\n",
    "    time = list(data.values())\n",
    "\n",
    "    # creating the bar plot\n",
    "    plt.bar(runs, time, width=0.35)\n",
    "\n",
    "    plt.xlabel(\"Implementation\")\n",
    "    plt.ylabel(\"Average time taken (in s)\")\n",
    "    plt.title(title)\n",
    "    plt.show()\n",
    "\n",
    "    best_perf_key = min(data, key=data.get)\n",
    "    all_runs_key = copy.copy(runs)\n",
    "\n",
    "    # all_runs_key_except_best\n",
    "    all_runs_key.remove(best_perf_key)\n",
    "\n",
    "    for k in all_runs_key:\n",
    "        print(\n",
    "            f\"{best_perf_key} was {round((data[k]/data[best_perf_key]),2)} times faster than {k} !!!\"\n",
    "        )\n",
    "     \n",
    "\n",
    "# @title Check the device you are using (Run Cell)\n",
    "print(f\"Num devices: {jax.device_count()}\")\n",
    "print(f\" Devices: {jax.devices()}\")\n",
    "     \n"
   ]
  },
  {
   "cell_type": "markdown",
   "metadata": {},
   "source": []
  },
  {
   "cell_type": "code",
   "execution_count": null,
   "metadata": {},
   "outputs": [],
   "source": []
  }
 ],
 "metadata": {
  "kernelspec": {
   "display_name": "venv",
   "language": "python",
   "name": "python3"
  },
  "language_info": {
   "codemirror_mode": {
    "name": "ipython",
    "version": 3
   },
   "file_extension": ".py",
   "mimetype": "text/x-python",
   "name": "python",
   "nbconvert_exporter": "python",
   "pygments_lexer": "ipython3",
   "version": "3.12.3"
  }
 },
 "nbformat": 4,
 "nbformat_minor": 2
}
